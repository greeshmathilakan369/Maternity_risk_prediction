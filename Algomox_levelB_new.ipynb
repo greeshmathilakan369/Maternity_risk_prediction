{
  "nbformat": 4,
  "nbformat_minor": 0,
  "metadata": {
    "colab": {
      "name": "Algomox_levelB_new.ipynb",
      "provenance": [],
      "authorship_tag": "ABX9TyM489oFztQFRWB7Ioo32Hla",
      "include_colab_link": true
    },
    "kernelspec": {
      "name": "python3",
      "display_name": "Python 3"
    },
    "language_info": {
      "name": "python"
    }
  },
  "cells": [
    {
      "cell_type": "markdown",
      "metadata": {
        "id": "view-in-github",
        "colab_type": "text"
      },
      "source": [
        "<a href=\"https://colab.research.google.com/github/greeshmathilakan369/Maternity_risk_prediction/blob/main/Algomox_levelB_new.ipynb\" target=\"_parent\"><img src=\"https://colab.research.google.com/assets/colab-badge.svg\" alt=\"Open In Colab\"/></a>"
      ]
    },
    {
      "cell_type": "code",
      "source": [
        "#step1:Import packages"
      ],
      "metadata": {
        "id": "PBcN17MthxiO"
      },
      "execution_count": null,
      "outputs": []
    },
    {
      "cell_type": "code",
      "execution_count": 1,
      "metadata": {
        "id": "9VBeKf91BBBT"
      },
      "outputs": [],
      "source": [
        "import pandas as pd\n",
        "import numpy as np"
      ]
    },
    {
      "cell_type": "code",
      "source": [
        "#step2:Loading & Understanding the Dataset"
      ],
      "metadata": {
        "id": "v9QuCLWzh815"
      },
      "execution_count": null,
      "outputs": []
    },
    {
      "cell_type": "code",
      "source": [
        "from google.colab import drive\n",
        "drive.mount('/content/gdrive')"
      ],
      "metadata": {
        "colab": {
          "base_uri": "https://localhost:8080/"
        },
        "id": "zef4wLcrCGyH",
        "outputId": "914bd810-81dc-4d58-84b8-3a6c1d0cc1c2"
      },
      "execution_count": 2,
      "outputs": [
        {
          "output_type": "stream",
          "name": "stdout",
          "text": [
            "Mounted at /content/gdrive\n"
          ]
        }
      ]
    },
    {
      "cell_type": "code",
      "source": [
        "df = pd.read_csv(\"complaints-2021-09-08_07_12.csv\")\n",
        "df.head()"
      ],
      "metadata": {
        "colab": {
          "base_uri": "https://localhost:8080/",
          "height": 722
        },
        "id": "MIW2nK2xCG1A",
        "outputId": "51eabbb6-17ef-4f70-fada-17c1c7bca993"
      },
      "execution_count": 3,
      "outputs": [
        {
          "output_type": "execute_result",
          "data": {
            "text/plain": [
              "  Date received                                            Product  \\\n",
              "0      08/27/21                                    Debt collection   \n",
              "1      08/08/21  Credit reporting, credit repair services, or o...   \n",
              "2      08/14/21  Credit reporting, credit repair services, or o...   \n",
              "3      08/27/21  Credit reporting, credit repair services, or o...   \n",
              "4      08/25/21                                    Debt collection   \n",
              "\n",
              "        Sub-product                                              Issue  \\\n",
              "0  Credit card debt                  Attempts to collect debt not owed   \n",
              "1  Credit reporting               Incorrect information on your report   \n",
              "2  Credit reporting               Incorrect information on your report   \n",
              "3  Credit reporting  Problem with a credit reporting company's inve...   \n",
              "4        Other debt                  Attempts to collect debt not owed   \n",
              "\n",
              "                              Sub-issue Consumer complaint narrative  \\\n",
              "0     Debt was result of identity theft                          NaN   \n",
              "1              Account status incorrect                          NaN   \n",
              "2   Information belongs to someone else                          NaN   \n",
              "3  Investigation took more than 30 days                          NaN   \n",
              "4                         Debt was paid                          NaN   \n",
              "\n",
              "                             Company public response  \\\n",
              "0                                               None   \n",
              "1                                               None   \n",
              "2                                               None   \n",
              "3                                               None   \n",
              "4  Company has responded to the consumer and the ...   \n",
              "\n",
              "                              Company State ZIP code  Tags  \\\n",
              "0  Bonneville Billing and Collections    FL    33256  None   \n",
              "1       BOEING EMPLOYEES CREDIT UNION    WA     None  None   \n",
              "2     Frontline Asset Strategies, LLC    GA    300XX  None   \n",
              "3   Credence Resource Management, LLC    OH    43213  None   \n",
              "4                   I.C. System, Inc.    FL    32839  None   \n",
              "\n",
              "  Consumer consent provided? Submitted via Date sent to company  \\\n",
              "0                       None           Web             08/27/21   \n",
              "1                       None           Web             08/08/21   \n",
              "2                       None           Web             08/14/21   \n",
              "3                       None           Web             08/27/21   \n",
              "4       Consent not provided           Web             08/25/21   \n",
              "\n",
              "  Company response to consumer Timely response?  Consumer disputed?  \\\n",
              "0      Closed with explanation              Yes                 NaN   \n",
              "1      Closed with explanation              Yes                 NaN   \n",
              "2      Closed with explanation              Yes                 NaN   \n",
              "3                  In progress              Yes                 NaN   \n",
              "4      Closed with explanation              Yes                 NaN   \n",
              "\n",
              "   Complaint ID  \n",
              "0     4669189.0  \n",
              "1     4612302.0  \n",
              "2     4632146.0  \n",
              "3     4668465.0  \n",
              "4     4658212.0  "
            ],
            "text/html": [
              "\n",
              "  <div id=\"df-169691ad-81d3-4483-9e24-9202eeef9db5\">\n",
              "    <div class=\"colab-df-container\">\n",
              "      <div>\n",
              "<style scoped>\n",
              "    .dataframe tbody tr th:only-of-type {\n",
              "        vertical-align: middle;\n",
              "    }\n",
              "\n",
              "    .dataframe tbody tr th {\n",
              "        vertical-align: top;\n",
              "    }\n",
              "\n",
              "    .dataframe thead th {\n",
              "        text-align: right;\n",
              "    }\n",
              "</style>\n",
              "<table border=\"1\" class=\"dataframe\">\n",
              "  <thead>\n",
              "    <tr style=\"text-align: right;\">\n",
              "      <th></th>\n",
              "      <th>Date received</th>\n",
              "      <th>Product</th>\n",
              "      <th>Sub-product</th>\n",
              "      <th>Issue</th>\n",
              "      <th>Sub-issue</th>\n",
              "      <th>Consumer complaint narrative</th>\n",
              "      <th>Company public response</th>\n",
              "      <th>Company</th>\n",
              "      <th>State</th>\n",
              "      <th>ZIP code</th>\n",
              "      <th>Tags</th>\n",
              "      <th>Consumer consent provided?</th>\n",
              "      <th>Submitted via</th>\n",
              "      <th>Date sent to company</th>\n",
              "      <th>Company response to consumer</th>\n",
              "      <th>Timely response?</th>\n",
              "      <th>Consumer disputed?</th>\n",
              "      <th>Complaint ID</th>\n",
              "    </tr>\n",
              "  </thead>\n",
              "  <tbody>\n",
              "    <tr>\n",
              "      <th>0</th>\n",
              "      <td>08/27/21</td>\n",
              "      <td>Debt collection</td>\n",
              "      <td>Credit card debt</td>\n",
              "      <td>Attempts to collect debt not owed</td>\n",
              "      <td>Debt was result of identity theft</td>\n",
              "      <td>NaN</td>\n",
              "      <td>None</td>\n",
              "      <td>Bonneville Billing and Collections</td>\n",
              "      <td>FL</td>\n",
              "      <td>33256</td>\n",
              "      <td>None</td>\n",
              "      <td>None</td>\n",
              "      <td>Web</td>\n",
              "      <td>08/27/21</td>\n",
              "      <td>Closed with explanation</td>\n",
              "      <td>Yes</td>\n",
              "      <td>NaN</td>\n",
              "      <td>4669189.0</td>\n",
              "    </tr>\n",
              "    <tr>\n",
              "      <th>1</th>\n",
              "      <td>08/08/21</td>\n",
              "      <td>Credit reporting, credit repair services, or o...</td>\n",
              "      <td>Credit reporting</td>\n",
              "      <td>Incorrect information on your report</td>\n",
              "      <td>Account status incorrect</td>\n",
              "      <td>NaN</td>\n",
              "      <td>None</td>\n",
              "      <td>BOEING EMPLOYEES CREDIT UNION</td>\n",
              "      <td>WA</td>\n",
              "      <td>None</td>\n",
              "      <td>None</td>\n",
              "      <td>None</td>\n",
              "      <td>Web</td>\n",
              "      <td>08/08/21</td>\n",
              "      <td>Closed with explanation</td>\n",
              "      <td>Yes</td>\n",
              "      <td>NaN</td>\n",
              "      <td>4612302.0</td>\n",
              "    </tr>\n",
              "    <tr>\n",
              "      <th>2</th>\n",
              "      <td>08/14/21</td>\n",
              "      <td>Credit reporting, credit repair services, or o...</td>\n",
              "      <td>Credit reporting</td>\n",
              "      <td>Incorrect information on your report</td>\n",
              "      <td>Information belongs to someone else</td>\n",
              "      <td>NaN</td>\n",
              "      <td>None</td>\n",
              "      <td>Frontline Asset Strategies, LLC</td>\n",
              "      <td>GA</td>\n",
              "      <td>300XX</td>\n",
              "      <td>None</td>\n",
              "      <td>None</td>\n",
              "      <td>Web</td>\n",
              "      <td>08/14/21</td>\n",
              "      <td>Closed with explanation</td>\n",
              "      <td>Yes</td>\n",
              "      <td>NaN</td>\n",
              "      <td>4632146.0</td>\n",
              "    </tr>\n",
              "    <tr>\n",
              "      <th>3</th>\n",
              "      <td>08/27/21</td>\n",
              "      <td>Credit reporting, credit repair services, or o...</td>\n",
              "      <td>Credit reporting</td>\n",
              "      <td>Problem with a credit reporting company's inve...</td>\n",
              "      <td>Investigation took more than 30 days</td>\n",
              "      <td>NaN</td>\n",
              "      <td>None</td>\n",
              "      <td>Credence Resource Management, LLC</td>\n",
              "      <td>OH</td>\n",
              "      <td>43213</td>\n",
              "      <td>None</td>\n",
              "      <td>None</td>\n",
              "      <td>Web</td>\n",
              "      <td>08/27/21</td>\n",
              "      <td>In progress</td>\n",
              "      <td>Yes</td>\n",
              "      <td>NaN</td>\n",
              "      <td>4668465.0</td>\n",
              "    </tr>\n",
              "    <tr>\n",
              "      <th>4</th>\n",
              "      <td>08/25/21</td>\n",
              "      <td>Debt collection</td>\n",
              "      <td>Other debt</td>\n",
              "      <td>Attempts to collect debt not owed</td>\n",
              "      <td>Debt was paid</td>\n",
              "      <td>NaN</td>\n",
              "      <td>Company has responded to the consumer and the ...</td>\n",
              "      <td>I.C. System, Inc.</td>\n",
              "      <td>FL</td>\n",
              "      <td>32839</td>\n",
              "      <td>None</td>\n",
              "      <td>Consent not provided</td>\n",
              "      <td>Web</td>\n",
              "      <td>08/25/21</td>\n",
              "      <td>Closed with explanation</td>\n",
              "      <td>Yes</td>\n",
              "      <td>NaN</td>\n",
              "      <td>4658212.0</td>\n",
              "    </tr>\n",
              "  </tbody>\n",
              "</table>\n",
              "</div>\n",
              "      <button class=\"colab-df-convert\" onclick=\"convertToInteractive('df-169691ad-81d3-4483-9e24-9202eeef9db5')\"\n",
              "              title=\"Convert this dataframe to an interactive table.\"\n",
              "              style=\"display:none;\">\n",
              "        \n",
              "  <svg xmlns=\"http://www.w3.org/2000/svg\" height=\"24px\"viewBox=\"0 0 24 24\"\n",
              "       width=\"24px\">\n",
              "    <path d=\"M0 0h24v24H0V0z\" fill=\"none\"/>\n",
              "    <path d=\"M18.56 5.44l.94 2.06.94-2.06 2.06-.94-2.06-.94-.94-2.06-.94 2.06-2.06.94zm-11 1L8.5 8.5l.94-2.06 2.06-.94-2.06-.94L8.5 2.5l-.94 2.06-2.06.94zm10 10l.94 2.06.94-2.06 2.06-.94-2.06-.94-.94-2.06-.94 2.06-2.06.94z\"/><path d=\"M17.41 7.96l-1.37-1.37c-.4-.4-.92-.59-1.43-.59-.52 0-1.04.2-1.43.59L10.3 9.45l-7.72 7.72c-.78.78-.78 2.05 0 2.83L4 21.41c.39.39.9.59 1.41.59.51 0 1.02-.2 1.41-.59l7.78-7.78 2.81-2.81c.8-.78.8-2.07 0-2.86zM5.41 20L4 18.59l7.72-7.72 1.47 1.35L5.41 20z\"/>\n",
              "  </svg>\n",
              "      </button>\n",
              "      \n",
              "  <style>\n",
              "    .colab-df-container {\n",
              "      display:flex;\n",
              "      flex-wrap:wrap;\n",
              "      gap: 12px;\n",
              "    }\n",
              "\n",
              "    .colab-df-convert {\n",
              "      background-color: #E8F0FE;\n",
              "      border: none;\n",
              "      border-radius: 50%;\n",
              "      cursor: pointer;\n",
              "      display: none;\n",
              "      fill: #1967D2;\n",
              "      height: 32px;\n",
              "      padding: 0 0 0 0;\n",
              "      width: 32px;\n",
              "    }\n",
              "\n",
              "    .colab-df-convert:hover {\n",
              "      background-color: #E2EBFA;\n",
              "      box-shadow: 0px 1px 2px rgba(60, 64, 67, 0.3), 0px 1px 3px 1px rgba(60, 64, 67, 0.15);\n",
              "      fill: #174EA6;\n",
              "    }\n",
              "\n",
              "    [theme=dark] .colab-df-convert {\n",
              "      background-color: #3B4455;\n",
              "      fill: #D2E3FC;\n",
              "    }\n",
              "\n",
              "    [theme=dark] .colab-df-convert:hover {\n",
              "      background-color: #434B5C;\n",
              "      box-shadow: 0px 1px 3px 1px rgba(0, 0, 0, 0.15);\n",
              "      filter: drop-shadow(0px 1px 2px rgba(0, 0, 0, 0.3));\n",
              "      fill: #FFFFFF;\n",
              "    }\n",
              "  </style>\n",
              "\n",
              "      <script>\n",
              "        const buttonEl =\n",
              "          document.querySelector('#df-169691ad-81d3-4483-9e24-9202eeef9db5 button.colab-df-convert');\n",
              "        buttonEl.style.display =\n",
              "          google.colab.kernel.accessAllowed ? 'block' : 'none';\n",
              "\n",
              "        async function convertToInteractive(key) {\n",
              "          const element = document.querySelector('#df-169691ad-81d3-4483-9e24-9202eeef9db5');\n",
              "          const dataTable =\n",
              "            await google.colab.kernel.invokeFunction('convertToInteractive',\n",
              "                                                     [key], {});\n",
              "          if (!dataTable) return;\n",
              "\n",
              "          const docLinkHtml = 'Like what you see? Visit the ' +\n",
              "            '<a target=\"_blank\" href=https://colab.research.google.com/notebooks/data_table.ipynb>data table notebook</a>'\n",
              "            + ' to learn more about interactive tables.';\n",
              "          element.innerHTML = '';\n",
              "          dataTable['output_type'] = 'display_data';\n",
              "          await google.colab.output.renderOutput(dataTable, element);\n",
              "          const docLink = document.createElement('div');\n",
              "          docLink.innerHTML = docLinkHtml;\n",
              "          element.appendChild(docLink);\n",
              "        }\n",
              "      </script>\n",
              "    </div>\n",
              "  </div>\n",
              "  "
            ]
          },
          "metadata": {},
          "execution_count": 3
        }
      ]
    },
    {
      "cell_type": "code",
      "source": [
        "df.shape"
      ],
      "metadata": {
        "colab": {
          "base_uri": "https://localhost:8080/"
        },
        "id": "Dk3MKq8ACG31",
        "outputId": "b9e3f030-0ad9-4e63-b8bb-5be58401f142"
      },
      "execution_count": 4,
      "outputs": [
        {
          "output_type": "execute_result",
          "data": {
            "text/plain": [
              "(15139, 18)"
            ]
          },
          "metadata": {},
          "execution_count": 4
        }
      ]
    },
    {
      "cell_type": "code",
      "source": [
        "df1 = df[['Product', 'Consumer complaint narrative']]\n",
        "df1.columns = ['Product', 'Consumer complaint']"
      ],
      "metadata": {
        "id": "ohdLAZXTC4gE"
      },
      "execution_count": 5,
      "outputs": []
    },
    {
      "cell_type": "code",
      "source": [
        "df1 = df1[df1['Consumer complaint'].isna() != True]\n",
        "\n"
      ],
      "metadata": {
        "id": "_kz-8Ag8C4iy"
      },
      "execution_count": 6,
      "outputs": []
    },
    {
      "cell_type": "code",
      "source": [
        "df1.head()"
      ],
      "metadata": {
        "colab": {
          "base_uri": "https://localhost:8080/",
          "height": 206
        },
        "id": "vKj8hdxzC4lm",
        "outputId": "92cfd3b7-eb05-4c0d-d403-fd26ad46158f"
      },
      "execution_count": 7,
      "outputs": [
        {
          "output_type": "execute_result",
          "data": {
            "text/plain": [
              "                                               Product  \\\n",
              "41   Credit reporting, credit repair services, or o...   \n",
              "44   Credit reporting, credit repair services, or o...   \n",
              "121  Credit reporting, credit repair services, or o...   \n",
              "122                                    Debt collection   \n",
              "153  Credit reporting, credit repair services, or o...   \n",
              "\n",
              "                                    Consumer complaint  \n",
              "41   Experian has allowed 6 inquiries on my credit ...  \n",
              "44   I submitted documentation from XXXX that I sub...  \n",
              "121  I contacted XXXX XXXX to inquire as to why a t...  \n",
              "122  IC Systems Re : Dispute of Account No. XXXX XX...  \n",
              "153  This is the 3 time I have disputed and filed a...  "
            ],
            "text/html": [
              "\n",
              "  <div id=\"df-e899446c-997d-4574-a853-1ca030e72528\">\n",
              "    <div class=\"colab-df-container\">\n",
              "      <div>\n",
              "<style scoped>\n",
              "    .dataframe tbody tr th:only-of-type {\n",
              "        vertical-align: middle;\n",
              "    }\n",
              "\n",
              "    .dataframe tbody tr th {\n",
              "        vertical-align: top;\n",
              "    }\n",
              "\n",
              "    .dataframe thead th {\n",
              "        text-align: right;\n",
              "    }\n",
              "</style>\n",
              "<table border=\"1\" class=\"dataframe\">\n",
              "  <thead>\n",
              "    <tr style=\"text-align: right;\">\n",
              "      <th></th>\n",
              "      <th>Product</th>\n",
              "      <th>Consumer complaint</th>\n",
              "    </tr>\n",
              "  </thead>\n",
              "  <tbody>\n",
              "    <tr>\n",
              "      <th>41</th>\n",
              "      <td>Credit reporting, credit repair services, or o...</td>\n",
              "      <td>Experian has allowed 6 inquiries on my credit ...</td>\n",
              "    </tr>\n",
              "    <tr>\n",
              "      <th>44</th>\n",
              "      <td>Credit reporting, credit repair services, or o...</td>\n",
              "      <td>I submitted documentation from XXXX that I sub...</td>\n",
              "    </tr>\n",
              "    <tr>\n",
              "      <th>121</th>\n",
              "      <td>Credit reporting, credit repair services, or o...</td>\n",
              "      <td>I contacted XXXX XXXX to inquire as to why a t...</td>\n",
              "    </tr>\n",
              "    <tr>\n",
              "      <th>122</th>\n",
              "      <td>Debt collection</td>\n",
              "      <td>IC Systems Re : Dispute of Account No. XXXX XX...</td>\n",
              "    </tr>\n",
              "    <tr>\n",
              "      <th>153</th>\n",
              "      <td>Credit reporting, credit repair services, or o...</td>\n",
              "      <td>This is the 3 time I have disputed and filed a...</td>\n",
              "    </tr>\n",
              "  </tbody>\n",
              "</table>\n",
              "</div>\n",
              "      <button class=\"colab-df-convert\" onclick=\"convertToInteractive('df-e899446c-997d-4574-a853-1ca030e72528')\"\n",
              "              title=\"Convert this dataframe to an interactive table.\"\n",
              "              style=\"display:none;\">\n",
              "        \n",
              "  <svg xmlns=\"http://www.w3.org/2000/svg\" height=\"24px\"viewBox=\"0 0 24 24\"\n",
              "       width=\"24px\">\n",
              "    <path d=\"M0 0h24v24H0V0z\" fill=\"none\"/>\n",
              "    <path d=\"M18.56 5.44l.94 2.06.94-2.06 2.06-.94-2.06-.94-.94-2.06-.94 2.06-2.06.94zm-11 1L8.5 8.5l.94-2.06 2.06-.94-2.06-.94L8.5 2.5l-.94 2.06-2.06.94zm10 10l.94 2.06.94-2.06 2.06-.94-2.06-.94-.94-2.06-.94 2.06-2.06.94z\"/><path d=\"M17.41 7.96l-1.37-1.37c-.4-.4-.92-.59-1.43-.59-.52 0-1.04.2-1.43.59L10.3 9.45l-7.72 7.72c-.78.78-.78 2.05 0 2.83L4 21.41c.39.39.9.59 1.41.59.51 0 1.02-.2 1.41-.59l7.78-7.78 2.81-2.81c.8-.78.8-2.07 0-2.86zM5.41 20L4 18.59l7.72-7.72 1.47 1.35L5.41 20z\"/>\n",
              "  </svg>\n",
              "      </button>\n",
              "      \n",
              "  <style>\n",
              "    .colab-df-container {\n",
              "      display:flex;\n",
              "      flex-wrap:wrap;\n",
              "      gap: 12px;\n",
              "    }\n",
              "\n",
              "    .colab-df-convert {\n",
              "      background-color: #E8F0FE;\n",
              "      border: none;\n",
              "      border-radius: 50%;\n",
              "      cursor: pointer;\n",
              "      display: none;\n",
              "      fill: #1967D2;\n",
              "      height: 32px;\n",
              "      padding: 0 0 0 0;\n",
              "      width: 32px;\n",
              "    }\n",
              "\n",
              "    .colab-df-convert:hover {\n",
              "      background-color: #E2EBFA;\n",
              "      box-shadow: 0px 1px 2px rgba(60, 64, 67, 0.3), 0px 1px 3px 1px rgba(60, 64, 67, 0.15);\n",
              "      fill: #174EA6;\n",
              "    }\n",
              "\n",
              "    [theme=dark] .colab-df-convert {\n",
              "      background-color: #3B4455;\n",
              "      fill: #D2E3FC;\n",
              "    }\n",
              "\n",
              "    [theme=dark] .colab-df-convert:hover {\n",
              "      background-color: #434B5C;\n",
              "      box-shadow: 0px 1px 3px 1px rgba(0, 0, 0, 0.15);\n",
              "      filter: drop-shadow(0px 1px 2px rgba(0, 0, 0, 0.3));\n",
              "      fill: #FFFFFF;\n",
              "    }\n",
              "  </style>\n",
              "\n",
              "      <script>\n",
              "        const buttonEl =\n",
              "          document.querySelector('#df-e899446c-997d-4574-a853-1ca030e72528 button.colab-df-convert');\n",
              "        buttonEl.style.display =\n",
              "          google.colab.kernel.accessAllowed ? 'block' : 'none';\n",
              "\n",
              "        async function convertToInteractive(key) {\n",
              "          const element = document.querySelector('#df-e899446c-997d-4574-a853-1ca030e72528');\n",
              "          const dataTable =\n",
              "            await google.colab.kernel.invokeFunction('convertToInteractive',\n",
              "                                                     [key], {});\n",
              "          if (!dataTable) return;\n",
              "\n",
              "          const docLinkHtml = 'Like what you see? Visit the ' +\n",
              "            '<a target=\"_blank\" href=https://colab.research.google.com/notebooks/data_table.ipynb>data table notebook</a>'\n",
              "            + ' to learn more about interactive tables.';\n",
              "          element.innerHTML = '';\n",
              "          dataTable['output_type'] = 'display_data';\n",
              "          await google.colab.output.renderOutput(dataTable, element);\n",
              "          const docLink = document.createElement('div');\n",
              "          docLink.innerHTML = docLinkHtml;\n",
              "          element.appendChild(docLink);\n",
              "        }\n",
              "      </script>\n",
              "    </div>\n",
              "  </div>\n",
              "  "
            ]
          },
          "metadata": {},
          "execution_count": 7
        }
      ]
    },
    {
      "cell_type": "code",
      "source": [
        "# step:3 Feature Engineering\n",
        "\n",
        "# Under Feature Engineering we do some data manipulation in order to train the model efficiently and get a better insight into the data."
      ],
      "metadata": {
        "id": "OpHM5dgMiUMQ"
      },
      "execution_count": null,
      "outputs": []
    },
    {
      "cell_type": "code",
      "source": [
        "pd.DataFrame(df1.Product.unique()).values"
      ],
      "metadata": {
        "colab": {
          "base_uri": "https://localhost:8080/"
        },
        "id": "PCBesmEqDUUA",
        "outputId": "68d2529a-484d-4d14-9052-37ec51ed7386"
      },
      "execution_count": 8,
      "outputs": [
        {
          "output_type": "execute_result",
          "data": {
            "text/plain": [
              "array([['Credit reporting, credit repair services, or other personal consumer reports'],\n",
              "       ['Debt collection'],\n",
              "       ['Checking or savings account'],\n",
              "       ['Mortgage'],\n",
              "       ['Credit card or prepaid card'],\n",
              "       ['Money transfer, virtual currency, or money service'],\n",
              "       ['Vehicle loan or lease'],\n",
              "       ['Payday loan, title loan, or personal loan'],\n",
              "       ['Student loan']], dtype=object)"
            ]
          },
          "metadata": {},
          "execution_count": 8
        }
      ]
    },
    {
      "cell_type": "code",
      "source": [
        "df1.replace({'Product': \n",
        "             { \n",
        "              'Credit reporting': 'Repair or Credit reporting',\n",
        "             'Credit card': 'Credit card or prepaid card',\n",
        "             'Prepaid card': 'Credit card or prepaid card',\n",
        "            'credit repair services,Credit reporting , or other personal consumer reports': \n",
        "            'Repair or Credit reporting',\n",
        "             'Money transfer': 'Money transfer, virtual currency, or money service',\n",
        "            'Payday loan': 'title loan,Payday ,Personal loan',\n",
        "             'Virtual currency': 'Money transfer, virtual currency, or money service'}}, \n",
        "            inplace= True)"
      ],
      "metadata": {
        "id": "1NMVQ4kTDbCU"
      },
      "execution_count": 9,
      "outputs": []
    },
    {
      "cell_type": "code",
      "source": [
        "# pd.DataFrame(df1.Product.unique()).values"
      ],
      "metadata": {
        "id": "lxhywfu_DbHg"
      },
      "execution_count": 10,
      "outputs": []
    },
    {
      "cell_type": "code",
      "source": [
        "df2 = df1.sample(1000, random_state=1).copy()"
      ],
      "metadata": {
        "id": "-CX0cplkDbKK"
      },
      "execution_count": 11,
      "outputs": []
    },
    {
      "cell_type": "code",
      "source": [
        "df2['category_id'] = df2['Product'].factorize()[0]"
      ],
      "metadata": {
        "id": "uEmr3K6KDbM-"
      },
      "execution_count": 12,
      "outputs": []
    },
    {
      "cell_type": "code",
      "source": [
        "df2.head()"
      ],
      "metadata": {
        "colab": {
          "base_uri": "https://localhost:8080/",
          "height": 206
        },
        "id": "XA70X5WfDbPp",
        "outputId": "33050a60-04eb-42ae-a18d-a74b0b997685"
      },
      "execution_count": 13,
      "outputs": [
        {
          "output_type": "execute_result",
          "data": {
            "text/plain": [
              "                                                 Product  \\\n",
              "2276   Credit reporting, credit repair services, or o...   \n",
              "13738  Credit reporting, credit repair services, or o...   \n",
              "14915  Credit reporting, credit repair services, or o...   \n",
              "5550   Credit reporting, credit repair services, or o...   \n",
              "7955   Credit reporting, credit repair services, or o...   \n",
              "\n",
              "                                      Consumer complaint  category_id  \n",
              "2276   Hello I hope your day is going well and you an...            0  \n",
              "13738  I have submitted several disputes to TransUnio...            0  \n",
              "14915  Good afternoon, I am writing to you because I ...            0  \n",
              "5550   National Credit Audit Corporation has knowingl...            0  \n",
              "7955   I have filed a dispute in regards to the incor...            0  "
            ],
            "text/html": [
              "\n",
              "  <div id=\"df-64a4b157-5538-4db6-ba25-2f3168ae7ce0\">\n",
              "    <div class=\"colab-df-container\">\n",
              "      <div>\n",
              "<style scoped>\n",
              "    .dataframe tbody tr th:only-of-type {\n",
              "        vertical-align: middle;\n",
              "    }\n",
              "\n",
              "    .dataframe tbody tr th {\n",
              "        vertical-align: top;\n",
              "    }\n",
              "\n",
              "    .dataframe thead th {\n",
              "        text-align: right;\n",
              "    }\n",
              "</style>\n",
              "<table border=\"1\" class=\"dataframe\">\n",
              "  <thead>\n",
              "    <tr style=\"text-align: right;\">\n",
              "      <th></th>\n",
              "      <th>Product</th>\n",
              "      <th>Consumer complaint</th>\n",
              "      <th>category_id</th>\n",
              "    </tr>\n",
              "  </thead>\n",
              "  <tbody>\n",
              "    <tr>\n",
              "      <th>2276</th>\n",
              "      <td>Credit reporting, credit repair services, or o...</td>\n",
              "      <td>Hello I hope your day is going well and you an...</td>\n",
              "      <td>0</td>\n",
              "    </tr>\n",
              "    <tr>\n",
              "      <th>13738</th>\n",
              "      <td>Credit reporting, credit repair services, or o...</td>\n",
              "      <td>I have submitted several disputes to TransUnio...</td>\n",
              "      <td>0</td>\n",
              "    </tr>\n",
              "    <tr>\n",
              "      <th>14915</th>\n",
              "      <td>Credit reporting, credit repair services, or o...</td>\n",
              "      <td>Good afternoon, I am writing to you because I ...</td>\n",
              "      <td>0</td>\n",
              "    </tr>\n",
              "    <tr>\n",
              "      <th>5550</th>\n",
              "      <td>Credit reporting, credit repair services, or o...</td>\n",
              "      <td>National Credit Audit Corporation has knowingl...</td>\n",
              "      <td>0</td>\n",
              "    </tr>\n",
              "    <tr>\n",
              "      <th>7955</th>\n",
              "      <td>Credit reporting, credit repair services, or o...</td>\n",
              "      <td>I have filed a dispute in regards to the incor...</td>\n",
              "      <td>0</td>\n",
              "    </tr>\n",
              "  </tbody>\n",
              "</table>\n",
              "</div>\n",
              "      <button class=\"colab-df-convert\" onclick=\"convertToInteractive('df-64a4b157-5538-4db6-ba25-2f3168ae7ce0')\"\n",
              "              title=\"Convert this dataframe to an interactive table.\"\n",
              "              style=\"display:none;\">\n",
              "        \n",
              "  <svg xmlns=\"http://www.w3.org/2000/svg\" height=\"24px\"viewBox=\"0 0 24 24\"\n",
              "       width=\"24px\">\n",
              "    <path d=\"M0 0h24v24H0V0z\" fill=\"none\"/>\n",
              "    <path d=\"M18.56 5.44l.94 2.06.94-2.06 2.06-.94-2.06-.94-.94-2.06-.94 2.06-2.06.94zm-11 1L8.5 8.5l.94-2.06 2.06-.94-2.06-.94L8.5 2.5l-.94 2.06-2.06.94zm10 10l.94 2.06.94-2.06 2.06-.94-2.06-.94-.94-2.06-.94 2.06-2.06.94z\"/><path d=\"M17.41 7.96l-1.37-1.37c-.4-.4-.92-.59-1.43-.59-.52 0-1.04.2-1.43.59L10.3 9.45l-7.72 7.72c-.78.78-.78 2.05 0 2.83L4 21.41c.39.39.9.59 1.41.59.51 0 1.02-.2 1.41-.59l7.78-7.78 2.81-2.81c.8-.78.8-2.07 0-2.86zM5.41 20L4 18.59l7.72-7.72 1.47 1.35L5.41 20z\"/>\n",
              "  </svg>\n",
              "      </button>\n",
              "      \n",
              "  <style>\n",
              "    .colab-df-container {\n",
              "      display:flex;\n",
              "      flex-wrap:wrap;\n",
              "      gap: 12px;\n",
              "    }\n",
              "\n",
              "    .colab-df-convert {\n",
              "      background-color: #E8F0FE;\n",
              "      border: none;\n",
              "      border-radius: 50%;\n",
              "      cursor: pointer;\n",
              "      display: none;\n",
              "      fill: #1967D2;\n",
              "      height: 32px;\n",
              "      padding: 0 0 0 0;\n",
              "      width: 32px;\n",
              "    }\n",
              "\n",
              "    .colab-df-convert:hover {\n",
              "      background-color: #E2EBFA;\n",
              "      box-shadow: 0px 1px 2px rgba(60, 64, 67, 0.3), 0px 1px 3px 1px rgba(60, 64, 67, 0.15);\n",
              "      fill: #174EA6;\n",
              "    }\n",
              "\n",
              "    [theme=dark] .colab-df-convert {\n",
              "      background-color: #3B4455;\n",
              "      fill: #D2E3FC;\n",
              "    }\n",
              "\n",
              "    [theme=dark] .colab-df-convert:hover {\n",
              "      background-color: #434B5C;\n",
              "      box-shadow: 0px 1px 3px 1px rgba(0, 0, 0, 0.15);\n",
              "      filter: drop-shadow(0px 1px 2px rgba(0, 0, 0, 0.3));\n",
              "      fill: #FFFFFF;\n",
              "    }\n",
              "  </style>\n",
              "\n",
              "      <script>\n",
              "        const buttonEl =\n",
              "          document.querySelector('#df-64a4b157-5538-4db6-ba25-2f3168ae7ce0 button.colab-df-convert');\n",
              "        buttonEl.style.display =\n",
              "          google.colab.kernel.accessAllowed ? 'block' : 'none';\n",
              "\n",
              "        async function convertToInteractive(key) {\n",
              "          const element = document.querySelector('#df-64a4b157-5538-4db6-ba25-2f3168ae7ce0');\n",
              "          const dataTable =\n",
              "            await google.colab.kernel.invokeFunction('convertToInteractive',\n",
              "                                                     [key], {});\n",
              "          if (!dataTable) return;\n",
              "\n",
              "          const docLinkHtml = 'Like what you see? Visit the ' +\n",
              "            '<a target=\"_blank\" href=https://colab.research.google.com/notebooks/data_table.ipynb>data table notebook</a>'\n",
              "            + ' to learn more about interactive tables.';\n",
              "          element.innerHTML = '';\n",
              "          dataTable['output_type'] = 'display_data';\n",
              "          await google.colab.output.renderOutput(dataTable, element);\n",
              "          const docLink = document.createElement('div');\n",
              "          docLink.innerHTML = docLinkHtml;\n",
              "          element.appendChild(docLink);\n",
              "        }\n",
              "      </script>\n",
              "    </div>\n",
              "  </div>\n",
              "  "
            ]
          },
          "metadata": {},
          "execution_count": 13
        }
      ]
    },
    {
      "cell_type": "code",
      "source": [
        "category_id = df2[['Product', 'category_id']].drop_duplicates()\n",
        "id_2_category = dict(category_id[['category_id', 'Product']].values)\n",
        "\n",
        "# Industrial Application of NLP"
      ],
      "metadata": {
        "id": "REAVeucTGtVC"
      },
      "execution_count": 14,
      "outputs": []
    },
    {
      "cell_type": "code",
      "source": [
        "id_2_category"
      ],
      "metadata": {
        "colab": {
          "base_uri": "https://localhost:8080/"
        },
        "id": "GM7AsU0GGtX7",
        "outputId": "a484b434-d60c-4aec-ebbf-29c108c64168"
      },
      "execution_count": 15,
      "outputs": [
        {
          "output_type": "execute_result",
          "data": {
            "text/plain": [
              "{0: 'Credit reporting, credit repair services, or other personal consumer reports',\n",
              " 1: 'Debt collection',\n",
              " 2: 'Credit card or prepaid card',\n",
              " 3: 'Checking or savings account',\n",
              " 4: 'Mortgage',\n",
              " 5: 'Money transfer, virtual currency, or money service',\n",
              " 6: 'Vehicle loan or lease',\n",
              " 7: 'Payday loan, title loan, or personal loan',\n",
              " 8: 'Student loan'}"
            ]
          },
          "metadata": {},
          "execution_count": 15
        }
      ]
    },
    {
      "cell_type": "code",
      "source": [
        "# step:4 Performing EDA"
      ],
      "metadata": {
        "id": "TiUSASd7ikXI"
      },
      "execution_count": null,
      "outputs": []
    },
    {
      "cell_type": "code",
      "source": [
        "import matplotlib.pyplot as plt\n",
        "import seaborn as sns\n",
        "fig = plt.figure(figsize=(8,6))\n",
        "colors = ['grey','grey','grey','grey','grey','grey','grey','grey','grey',\n",
        "    'grey','darkblue','darkblue','darkblue']\n",
        "df2.groupby('Product')['Consumer complaint'].count().sort_values().plot.barh(\n",
        "    ylim=0, color=colors, title= 'NUMBER OF COMPLAINTS IN EACH PRODUCT CATEGORYn')\n",
        "plt.xlabel('Number of ocurrences', fontsize = 10)"
      ],
      "metadata": {
        "colab": {
          "base_uri": "https://localhost:8080/",
          "height": 421
        },
        "id": "eGGqXQ_KG2S3",
        "outputId": "b48fcda6-1c75-4360-ff8b-e3c81f5597d8"
      },
      "execution_count": 16,
      "outputs": [
        {
          "output_type": "execute_result",
          "data": {
            "text/plain": [
              "Text(0.5, 0, 'Number of ocurrences')"
            ]
          },
          "metadata": {},
          "execution_count": 16
        },
        {
          "output_type": "display_data",
          "data": {
            "text/plain": [
              "<Figure size 576x432 with 1 Axes>"
            ],
            "image/png": "[encoded data removed]"
          },
          "metadata": {
            "needs_background": "light"
          }
        }
      ]
    },
    {
      "cell_type": "code",
      "source": [
        "# step5: Feature Engineering\n",
        "\n",
        "# Now we need to convert the Complaint text into some vectors since the machine can’t understand the textual data. This process is called Feature Extraction.\n",
        "\n",
        "# We are  use tf-idf Vectorizer"
      ],
      "metadata": {
        "id": "L7dMEnCviys_"
      },
      "execution_count": null,
      "outputs": []
    },
    {
      "cell_type": "code",
      "source": [
        "from sklearn.feature_extraction.text import TfidfVectorizer\n",
        "tfidf = TfidfVectorizer(sublinear_tf=True, min_df=5,\n",
        "                        ngram_range=(1, 2), \n",
        "                        stop_words='english')"
      ],
      "metadata": {
        "id": "SJOhB23YZdA8"
      },
      "execution_count": 17,
      "outputs": []
    },
    {
      "cell_type": "code",
      "source": [
        "# Vectorization\n",
        "features = tfidf.fit_transform(df2['Consumer complaint']).toarray()\n",
        "labels = df2.category_id"
      ],
      "metadata": {
        "id": "dLv50L6PZdDw"
      },
      "execution_count": 18,
      "outputs": []
    },
    {
      "cell_type": "code",
      "source": [
        "# Splitting the Dataset"
      ],
      "metadata": {
        "id": "lHgTq33FjBVe"
      },
      "execution_count": null,
      "outputs": []
    },
    {
      "cell_type": "code",
      "source": [
        "from sklearn.model_selection import train_test_split\n",
        "X_train, X_test, y_train, y_test = train_test_split(features, labels, \n",
        "                                                    test_size=0.25,\n",
        "                                                    random_state = 1)"
      ],
      "metadata": {
        "id": "PRR7CXctZdG6"
      },
      "execution_count": 19,
      "outputs": []
    },
    {
      "cell_type": "code",
      "source": [
        "# step:6. Model Training"
      ],
      "metadata": {
        "id": "hAQ0Sxm3jJn-"
      },
      "execution_count": null,
      "outputs": []
    },
    {
      "cell_type": "code",
      "source": [
        "from sklearn.svm import LinearSVC\n",
        "model = LinearSVC()\n",
        "model.fit(X_train, y_train)"
      ],
      "metadata": {
        "colab": {
          "base_uri": "https://localhost:8080/"
        },
        "id": "lJ1jph5NZdJl",
        "outputId": "475d6e33-8f09-4af5-bbca-50ba019b8e3e"
      },
      "execution_count": 20,
      "outputs": [
        {
          "output_type": "execute_result",
          "data": {
            "text/plain": [
              "LinearSVC()"
            ]
          },
          "metadata": {},
          "execution_count": 20
        }
      ]
    },
    {
      "cell_type": "code",
      "source": [
        "# step:7. Evaluation and Testing"
      ],
      "metadata": {
        "id": "JI4Nx9MKjbSv"
      },
      "execution_count": null,
      "outputs": []
    },
    {
      "cell_type": "code",
      "source": [
        "from sklearn import metrics\n",
        "from sklearn.metrics import classification_report"
      ],
      "metadata": {
        "id": "L0kSCfxoZdsd"
      },
      "execution_count": 21,
      "outputs": []
    },
    {
      "cell_type": "code",
      "source": [
        "y_pred = model.predict(X_test)"
      ],
      "metadata": {
        "id": "tlW7ryc6ZdvJ"
      },
      "execution_count": 22,
      "outputs": []
    },
    {
      "cell_type": "code",
      "source": [
        "df2['Product'].unique()"
      ],
      "metadata": {
        "colab": {
          "base_uri": "https://localhost:8080/"
        },
        "id": "JQ8HAJb_aZRv",
        "outputId": "334ae7ad-bcbc-4dfc-9965-50783685558d"
      },
      "execution_count": 24,
      "outputs": [
        {
          "output_type": "execute_result",
          "data": {
            "text/plain": [
              "array(['Credit reporting, credit repair services, or other personal consumer reports',\n",
              "       'Debt collection', 'Credit card or prepaid card',\n",
              "       'Checking or savings account', 'Mortgage',\n",
              "       'Money transfer, virtual currency, or money service',\n",
              "       'Vehicle loan or lease',\n",
              "       'Payday loan, title loan, or personal loan', 'Student loan'],\n",
              "      dtype=object)"
            ]
          },
          "metadata": {},
          "execution_count": 24
        }
      ]
    },
    {
      "cell_type": "code",
      "source": [
        "y_pred"
      ],
      "metadata": {
        "colab": {
          "base_uri": "https://localhost:8080/"
        },
        "id": "gpNYDwSrbw28",
        "outputId": "e83cc1b3-e6ad-4d7a-8d44-95ada92cc30e"
      },
      "execution_count": 25,
      "outputs": [
        {
          "output_type": "execute_result",
          "data": {
            "text/plain": [
              "array([1, 0, 0, 1, 0, 1, 3, 0, 4, 2, 1, 0, 0, 0, 0, 0, 0, 0, 0, 1, 3, 1,\n",
              "       0, 0, 0, 0, 0, 0, 0, 0, 0, 0, 1, 0, 0, 0, 0, 0, 0, 3, 0, 0, 0, 3,\n",
              "       2, 0, 0, 0, 3, 2, 0, 0, 1, 1, 2, 0, 0, 0, 2, 0, 0, 0, 2, 4, 1, 0,\n",
              "       0, 1, 0, 0, 0, 0, 0, 0, 0, 0, 0, 0, 0, 0, 0, 0, 0, 0, 2, 1, 0, 0,\n",
              "       0, 0, 0, 0, 1, 0, 0, 3, 0, 0, 0, 0, 0, 0, 2, 0, 1, 0, 0, 0, 2, 0,\n",
              "       0, 0, 0, 0, 0, 0, 0, 0, 2, 0, 0, 0, 0, 0, 0, 3, 4, 0, 0, 0, 1, 0,\n",
              "       0, 0, 0, 0, 0, 0, 0, 0, 0, 1, 0, 0, 1, 0, 0, 4, 0, 3, 1, 3, 0, 0,\n",
              "       1, 0, 0, 1, 0, 0, 2, 0, 0, 0, 3, 0, 0, 0, 0, 0, 0, 1, 0, 0, 0, 0,\n",
              "       0, 0, 0, 0, 0, 0, 0, 0, 0, 0, 2, 2, 0, 1, 1, 1, 0, 0, 3, 0, 1, 0,\n",
              "       1, 0, 2, 1, 2, 4, 2, 2, 0, 2, 0, 0, 0, 0, 0, 0, 0, 0, 0, 1, 0, 0,\n",
              "       0, 4, 0, 0, 2, 1, 3, 0, 0, 0, 0, 0, 0, 0, 1, 0, 0, 0, 1, 0, 3, 2,\n",
              "       0, 0, 4, 1, 2, 0, 0, 0])"
            ]
          },
          "metadata": {},
          "execution_count": 25
        }
      ]
    },
    {
      "cell_type": "code",
      "source": [
        "y_test"
      ],
      "metadata": {
        "colab": {
          "base_uri": "https://localhost:8080/"
        },
        "id": "AUHvNor0b3NN",
        "outputId": "b4a75231-dc2a-4c9e-dad8-ff18472cf4db"
      },
      "execution_count": 26,
      "outputs": [
        {
          "output_type": "execute_result",
          "data": {
            "text/plain": [
              "11826    1\n",
              "1589     0\n",
              "271      0\n",
              "11013    1\n",
              "13104    0\n",
              "        ..\n",
              "3521     1\n",
              "2480     2\n",
              "7252     1\n",
              "6315     0\n",
              "12546    0\n",
              "Name: category_id, Length: 250, dtype: int64"
            ]
          },
          "metadata": {},
          "execution_count": 26
        }
      ]
    },
    {
      "cell_type": "code",
      "source": [
        "# Plotting Confusion Matrix"
      ],
      "metadata": {
        "id": "QG0nvoxEjwBS"
      },
      "execution_count": null,
      "outputs": []
    },
    {
      "cell_type": "code",
      "source": [
        "import seaborn as sns\n",
        "sns.set()\n",
        "from sklearn.metrics import confusion_matrix\n",
        "conf_mat = confusion_matrix(y_test, y_pred)\n",
        "fig, ax = plt.subplots(figsize=(8,8))\n",
        "sns.heatmap(conf_mat, annot=True, cmap=\"Blues\", fmt='d',\n",
        "            xticklabels=category_id.Product.values, \n",
        "            yticklabels=category_id.Product.values)\n",
        "plt.ylabel('Actual')\n",
        "plt.xlabel('Predicted')\n",
        "plt.title(\"CONFUSION MATRIX - LinearSVCn\", size=16);"
      ],
      "metadata": {
        "colab": {
          "base_uri": "https://localhost:8080/",
          "height": 927
        },
        "id": "j2je6pajG4pD",
        "outputId": "407483b8-b324-4749-848c-791ca28c8920"
      },
      "execution_count": 28,
      "outputs": [
        {
          "output_type": "display_data",
          "data": {
            "text/plain": [
              "<Figure size 576x576 with 2 Axes>"
            ],
            "image/png": "[encoded data removed]"
          },
          "metadata": {}
        }
      ]
    },
    {
      "cell_type": "code",
      "source": [
        "# step:7. Prediction"
      ],
      "metadata": {
        "id": "mIrj65m6j4R7"
      },
      "execution_count": null,
      "outputs": []
    },
    {
      "cell_type": "code",
      "source": [
        "complain = \"\"\"I have been enrolled back in 2019 to Indian University. Few days ago , i have been harassed by \n",
        "Navient. I have already faxed the paperwork providing them with everything they wanted. And still getting \n",
        "phone calls for payments. Furthermore, Navient is now reporting to the credit bureaus that I am late for the payment. At this point, \n",
        "Navient needs take their act together to avoid me taking further steps\"\"\""
      ],
      "metadata": {
        "id": "P8jODgLtG4r3"
      },
      "execution_count": 34,
      "outputs": []
    },
    {
      "cell_type": "code",
      "source": [
        "complain"
      ],
      "metadata": {
        "colab": {
          "base_uri": "https://localhost:8080/",
          "height": 70
        },
        "id": "LMjj6X2Zd25X",
        "outputId": "e8a188ea-c25b-4cbc-db59-461744847223"
      },
      "execution_count": 35,
      "outputs": [
        {
          "output_type": "execute_result",
          "data": {
            "text/plain": [
              "'I have been enrolled back in 2019 to Indian University. Few days ago , i have been harassed by \\nNavient. I have already faxed the paperwork providing them with everything they wanted. And still getting \\nphone calls for payments. Furthermore, Navient is now reporting to the credit bureaus that I am late for the payment. At this point, \\nNavient needs take their act together to avoid me taking further steps'"
            ],
            "application/vnd.google.colaboratory.intrinsic+json": {
              "type": "string"
            }
          },
          "metadata": {},
          "execution_count": 35
        }
      ]
    },
    {
      "cell_type": "code",
      "source": [
        "complaint_id = (model.predict(tfidf.transform([complain])))"
      ],
      "metadata": {
        "id": "nf-t5F-Fd-2L"
      },
      "execution_count": 36,
      "outputs": []
    },
    {
      "cell_type": "code",
      "source": [
        "print(\"complain\", id_2_category[complaint_id[0]])"
      ],
      "metadata": {
        "colab": {
          "base_uri": "https://localhost:8080/"
        },
        "id": "jpphKrkQeBHc",
        "outputId": "53eae74b-6afd-4486-a96e-c182638c8e10"
      },
      "execution_count": 37,
      "outputs": [
        {
          "output_type": "stream",
          "name": "stdout",
          "text": [
            "complain Credit reporting, credit repair services, or other personal consumer reports\n"
          ]
        }
      ]
    },
    {
      "cell_type": "code",
      "source": [
        ""
      ],
      "metadata": {
        "id": "ta2_sZc7eBKR"
      },
      "execution_count": null,
      "outputs": []
    },
    {
      "cell_type": "code",
      "source": [
        ""
      ],
      "metadata": {
        "id": "1GBR-BV2eBNJ"
      },
      "execution_count": null,
      "outputs": []
    },
    {
      "cell_type": "code",
      "source": [
        ""
      ],
      "metadata": {
        "id": "isi9yIQrG4-Y"
      },
      "execution_count": null,
      "outputs": []
    },
    {
      "cell_type": "code",
      "source": [
        ""
      ],
      "metadata": {
        "id": "Jvr3QvpOG5Ov"
      },
      "execution_count": null,
      "outputs": []
    },
    {
      "cell_type": "code",
      "source": [
        ""
      ],
      "metadata": {
        "id": "pf39-5uXG5Rj"
      },
      "execution_count": null,
      "outputs": []
    },
    {
      "cell_type": "code",
      "source": [
        ""
      ],
      "metadata": {
        "id": "vM20YZSQGtai"
      },
      "execution_count": null,
      "outputs": []
    },
    {
      "cell_type": "code",
      "source": [
        ""
      ],
      "metadata": {
        "id": "dviMC9S7GtdY"
      },
      "execution_count": null,
      "outputs": []
    },
    {
      "cell_type": "code",
      "source": [
        ""
      ],
      "metadata": {
        "id": "Pp5bLiIIGtgB"
      },
      "execution_count": null,
      "outputs": []
    },
    {
      "cell_type": "code",
      "source": [
        ""
      ],
      "metadata": {
        "id": "6dLfGIoOGtim"
      },
      "execution_count": null,
      "outputs": []
    },
    {
      "cell_type": "code",
      "source": [
        ""
      ],
      "metadata": {
        "id": "eqeAMWrwGtlb"
      },
      "execution_count": null,
      "outputs": []
    },
    {
      "cell_type": "code",
      "source": [
        ""
      ],
      "metadata": {
        "id": "Gz3rXHO6GtoU"
      },
      "execution_count": null,
      "outputs": []
    },
    {
      "cell_type": "code",
      "source": [
        ""
      ],
      "metadata": {
        "id": "0GHrmB75GtrP"
      },
      "execution_count": null,
      "outputs": []
    },
    {
      "cell_type": "code",
      "source": [
        ""
      ],
      "metadata": {
        "id": "jrFxVQl2GtuD"
      },
      "execution_count": null,
      "outputs": []
    },
    {
      "cell_type": "code",
      "source": [
        ""
      ],
      "metadata": {
        "id": "H3g0QNUfDbSe"
      },
      "execution_count": null,
      "outputs": []
    },
    {
      "cell_type": "code",
      "source": [
        ""
      ],
      "metadata": {
        "id": "re8bNzEcDbVX"
      },
      "execution_count": null,
      "outputs": []
    },
    {
      "cell_type": "code",
      "source": [
        ""
      ],
      "metadata": {
        "id": "02Z-lNN9DbYa"
      },
      "execution_count": null,
      "outputs": []
    },
    {
      "cell_type": "code",
      "source": [
        ""
      ],
      "metadata": {
        "id": "PeFTY473DbbG"
      },
      "execution_count": null,
      "outputs": []
    },
    {
      "cell_type": "code",
      "source": [
        ""
      ],
      "metadata": {
        "id": "b88GtqxZDUW-"
      },
      "execution_count": null,
      "outputs": []
    },
    {
      "cell_type": "code",
      "source": [
        ""
      ],
      "metadata": {
        "id": "CqxQn_ywDUZm"
      },
      "execution_count": null,
      "outputs": []
    },
    {
      "cell_type": "code",
      "source": [
        ""
      ],
      "metadata": {
        "id": "GU8HqEWcDUb9"
      },
      "execution_count": null,
      "outputs": []
    },
    {
      "cell_type": "code",
      "source": [
        ""
      ],
      "metadata": {
        "id": "gITtgI22DUfD"
      },
      "execution_count": null,
      "outputs": []
    },
    {
      "cell_type": "code",
      "source": [
        ""
      ],
      "metadata": {
        "id": "L45o_1coDUhy"
      },
      "execution_count": null,
      "outputs": []
    },
    {
      "cell_type": "code",
      "source": [
        ""
      ],
      "metadata": {
        "id": "DD8qKeRKC4oT"
      },
      "execution_count": null,
      "outputs": []
    },
    {
      "cell_type": "code",
      "source": [
        ""
      ],
      "metadata": {
        "id": "EvRFxmeKC4rH"
      },
      "execution_count": null,
      "outputs": []
    }
  ]
}